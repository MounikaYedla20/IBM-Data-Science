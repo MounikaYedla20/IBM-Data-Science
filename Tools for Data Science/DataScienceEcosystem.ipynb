{
 "cells": [
  {
   "cell_type": "markdown",
   "id": "5e0d48a2-e551-4183-834c-d00fe616b13a",
   "metadata": {},
   "source": [
    "# Data Science Tools and Ecosystem"
   ]
  },
  {
   "cell_type": "markdown",
   "id": "848b8c4a-67ac-49ab-9356-557acd7d77c2",
   "metadata": {},
   "source": [
    "In this notebook, Data Science Tools and Ecosystem are summarized."
   ]
  },
  {
   "cell_type": "markdown",
   "id": "b8d79249-d3ee-4f39-a78d-4c55e1fb14f8",
   "metadata": {},
   "source": [
    "**Objectives:**\n",
    "- List popular languages for Data Science\n",
    "- List popular libraries used in data science\n",
    "- Data science tools"
   ]
  },
  {
   "cell_type": "markdown",
   "id": "b406675d-be45-46f6-a698-c936a5866b90",
   "metadata": {},
   "source": [
    "Some of the popular languages that Data Scientists use are:\n",
    "1. Python\n",
    "2. R\n",
    "3. SQL"
   ]
  },
  {
   "cell_type": "markdown",
   "id": "65721b4e-230e-4404-be96-37da9bf9008c",
   "metadata": {},
   "source": [
    "Some of the commonly used libraries used by Data Scientists include:\n",
    "1. Numpy\n",
    "2. Pandas\n",
    "3. Scipy"
   ]
  },
  {
   "cell_type": "markdown",
   "id": "bf2f5185-f11e-404f-8532-10fe0c97815a",
   "metadata": {},
   "source": [
    "|Data science tools|\n",
    "--------------------\n",
    "|Jupyter Notebook|\n",
    "|R studio|\n",
    "|Jupyter lab|\n",
    "\n",
    "\n"
   ]
  },
  {
   "cell_type": "markdown",
   "id": "46cd5e54-716b-491c-a966-5a19ce17ec98",
   "metadata": {
    "tags": []
   },
   "source": [
    "### Below are a few examples of evaluating arithmetic expressions in Python"
   ]
  },
  {
   "cell_type": "code",
   "execution_count": 5,
   "id": "765aa155-1254-4f6e-ba23-f4825ff2b4c0",
   "metadata": {
    "tags": []
   },
   "outputs": [
    {
     "data": {
      "text/plain": [
       "10"
      ]
     },
     "execution_count": 5,
     "metadata": {},
     "output_type": "execute_result"
    }
   ],
   "source": [
    "#Addition\n",
    "7+3"
   ]
  },
  {
   "cell_type": "code",
   "execution_count": 6,
   "id": "5dc179c3-eebb-403c-aab5-78b703c561db",
   "metadata": {
    "tags": []
   },
   "outputs": [
    {
     "data": {
      "text/plain": [
       "8"
      ]
     },
     "execution_count": 6,
     "metadata": {},
     "output_type": "execute_result"
    }
   ],
   "source": [
    "#Subtraction\n",
    "10-2"
   ]
  },
  {
   "cell_type": "code",
   "execution_count": 7,
   "id": "6ae7b0da-4b4d-424f-86d1-d805df89e7d4",
   "metadata": {
    "tags": []
   },
   "outputs": [
    {
     "data": {
      "text/plain": [
       "21"
      ]
     },
     "execution_count": 7,
     "metadata": {},
     "output_type": "execute_result"
    }
   ],
   "source": [
    "#Multiplication\n",
    "7*3"
   ]
  },
  {
   "cell_type": "code",
   "execution_count": 8,
   "id": "0e7c0081-1157-4f54-a8f6-fe1c8a080a28",
   "metadata": {
    "tags": []
   },
   "outputs": [
    {
     "data": {
      "text/plain": [
       "17"
      ]
     },
     "execution_count": 8,
     "metadata": {},
     "output_type": "execute_result"
    }
   ],
   "source": [
    "#This a simple arithmetic expression to mutiply then add integers\n",
    "(3*4)+5"
   ]
  },
  {
   "cell_type": "code",
   "execution_count": 9,
   "id": "99ff5317-5670-461e-9364-82e269231467",
   "metadata": {
    "tags": []
   },
   "outputs": [
    {
     "data": {
      "text/plain": [
       "3.3333333333333335"
      ]
     },
     "execution_count": 9,
     "metadata": {},
     "output_type": "execute_result"
    }
   ],
   "source": [
    "#This will convert 200 minutes to hours by diving by 60\n",
    "200/60"
   ]
  },
  {
   "cell_type": "markdown",
   "id": "12109b0b-ec35-42cc-b47d-102985ef21af",
   "metadata": {},
   "source": [
    "## Author\n",
    "Mounika Yedla"
   ]
  },
  {
   "cell_type": "code",
   "execution_count": null,
   "id": "5178b892-34a8-4cd4-813d-8bdfb2f9c5ab",
   "metadata": {},
   "outputs": [],
   "source": []
  }
 ],
 "metadata": {
  "kernelspec": {
   "display_name": "Python",
   "language": "python",
   "name": "conda-env-python-py"
  },
  "language_info": {
   "codemirror_mode": {
    "name": "ipython",
    "version": 3
   },
   "file_extension": ".py",
   "mimetype": "text/x-python",
   "name": "python",
   "nbconvert_exporter": "python",
   "pygments_lexer": "ipython3",
   "version": "3.7.12"
  }
 },
 "nbformat": 4,
 "nbformat_minor": 5
}
